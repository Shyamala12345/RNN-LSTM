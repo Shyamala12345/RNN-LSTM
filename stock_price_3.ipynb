{
  "nbformat": 4,
  "nbformat_minor": 0,
  "metadata": {
    "colab": {
      "provenance": [],
      "collapsed_sections": [],
      "include_colab_link": true
    },
    "kernelspec": {
      "name": "python3",
      "display_name": "Python 3"
    },
    "language_info": {
      "name": "python"
    }
  },
  "cells": [
    {
      "cell_type": "markdown",
      "metadata": {
        "id": "view-in-github",
        "colab_type": "text"
      },
      "source": [
        "<a href=\"https://colab.research.google.com/github/Shyamala12345/RNN-LSTM/blob/main/stock_price_3.ipynb\" target=\"_parent\"><img src=\"https://colab.research.google.com/assets/colab-badge.svg\" alt=\"Open In Colab\"/></a>"
      ]
    },
    {
      "cell_type": "code",
      "metadata": {
        "id": "XDGBtHr__-al"
      },
      "source": [
        "import numpy as np\n",
        "import pandas as pd\n",
        "import matplotlib.pyplot as plt\n",
        "from sklearn.preprocessing import MinMaxScaler\n",
        "from keras.models import Sequential\n",
        "from keras.layers import Dense, LSTM\n",
        "import math\n",
        "df=pd.read_csv(\"/content/drive/MyDrive/NTPC.csv\")"
      ],
      "execution_count": 3,
      "outputs": []
    },
    {
      "cell_type": "code",
      "metadata": {
        "id": "JJPEL9yQKOj_",
        "colab": {
          "base_uri": "https://localhost:8080/"
        },
        "outputId": "836da5ee-f25e-4c10-9b37-3db7a31cbd9c"
      },
      "source": [
        "from google.colab import drive\n",
        "drive.mount('/content/drive')"
      ],
      "execution_count": 2,
      "outputs": [
        {
          "output_type": "stream",
          "name": "stdout",
          "text": [
            "Mounted at /content/drive\n"
          ]
        }
      ]
    },
    {
      "cell_type": "code",
      "metadata": {
        "colab": {
          "base_uri": "https://localhost:8080/"
        },
        "id": "i6ib8X3sBA62",
        "outputId": "3c9c5e4f-aacd-4e0b-8ea7-f8e5e55f640e"
      },
      "source": [
        "df.info()"
      ],
      "execution_count": 4,
      "outputs": [
        {
          "output_type": "stream",
          "name": "stdout",
          "text": [
            "<class 'pandas.core.frame.DataFrame'>\n",
            "RangeIndex: 4088 entries, 0 to 4087\n",
            "Data columns (total 15 columns):\n",
            " #   Column              Non-Null Count  Dtype  \n",
            "---  ------              --------------  -----  \n",
            " 0   Date                4088 non-null   object \n",
            " 1   Symbol              4088 non-null   object \n",
            " 2   Series              4088 non-null   object \n",
            " 3   Prev Close          4088 non-null   float64\n",
            " 4   Open                4088 non-null   float64\n",
            " 5   High                4088 non-null   float64\n",
            " 6   Low                 4088 non-null   float64\n",
            " 7   Last                4088 non-null   float64\n",
            " 8   Close               4088 non-null   float64\n",
            " 9   VWAP                4088 non-null   float64\n",
            " 10  Volume              4088 non-null   int64  \n",
            " 11  Turnover            4088 non-null   float64\n",
            " 12  Trades              2456 non-null   float64\n",
            " 13  Deliverable Volume  4088 non-null   int64  \n",
            " 14  %Deliverble         4088 non-null   float64\n",
            "dtypes: float64(10), int64(2), object(3)\n",
            "memory usage: 479.2+ KB\n"
          ]
        }
      ]
    },
    {
      "cell_type": "code",
      "metadata": {
        "id": "IOjBU6kwBNuf"
      },
      "source": [
        "df['Date'] = pd.to_datetime(df['Date'])\n",
        "df.set_index('Date',inplace=True)"
      ],
      "execution_count": 5,
      "outputs": []
    },
    {
      "cell_type": "code",
      "metadata": {
        "colab": {
          "base_uri": "https://localhost:8080/"
        },
        "id": "Xv57NIphBSXn",
        "outputId": "bf9e76f5-817f-4d35-c119-5b1d80751802"
      },
      "source": [
        "df.shape"
      ],
      "execution_count": 6,
      "outputs": [
        {
          "output_type": "execute_result",
          "data": {
            "text/plain": [
              "(4088, 14)"
            ]
          },
          "metadata": {},
          "execution_count": 6
        }
      ]
    },
    {
      "cell_type": "code",
      "metadata": {
        "colab": {
          "base_uri": "https://localhost:8080/",
          "height": 512
        },
        "id": "nyVwJbn_BWwL",
        "outputId": "066ea036-299d-49a6-af5c-5766ddb046e2"
      },
      "source": [
        "#plotting the data\n",
        "plt.figure(figsize=(16,8))\n",
        "plt.title('Close Price History')\n",
        "plt.plot(df['Close'], color='red')\n",
        "plt.xlabel('Date', fontsize=18)\n",
        "plt.ylabel('Close Price USD', fontsize = 18)\n",
        "plt.show()"
      ],
      "execution_count": 7,
      "outputs": [
        {
          "output_type": "display_data",
          "data": {
            "text/plain": [
              "<Figure size 1152x576 with 1 Axes>"
            ],
            "image/png": "[encoded data removed]"
          },
          "metadata": {
            "needs_background": "light"
          }
        }
      ]
    },
    {
      "cell_type": "code",
      "metadata": {
        "colab": {
          "base_uri": "https://localhost:8080/"
        },
        "id": "P9Z9clNrBc7k",
        "outputId": "c4cd7969-4a43-4031-86dd-915aa428ff04"
      },
      "source": [
        "# create a new data frame with only 'Close column'\n",
        "data = df.filter(['Close'])\n",
        "dataset = data.values #convert the data frame to a numpy array\n",
        "training_data_len = math.ceil(len(dataset)*.8)  # number of rows to train the model on\n",
        "training_data_len"
      ],
      "execution_count": 8,
      "outputs": [
        {
          "output_type": "execute_result",
          "data": {
            "text/plain": [
              "3271"
            ]
          },
          "metadata": {},
          "execution_count": 8
        }
      ]
    },
    {
      "cell_type": "code",
      "metadata": {
        "colab": {
          "base_uri": "https://localhost:8080/"
        },
        "id": "gQ4SGOJLBh78",
        "outputId": "2ab3f51f-790b-458c-c20a-e09a48b3ef5f"
      },
      "source": [
        "#scale the data\n",
        "scaler = MinMaxScaler(feature_range=(0,1))\n",
        "scaled_data = scaler.fit_transform(dataset)\n",
        "scaled_data"
      ],
      "execution_count": 9,
      "outputs": [
        {
          "output_type": "execute_result",
          "data": {
            "text/plain": [
              "array([[0.00947418],\n",
              "       [0.0078162 ],\n",
              "       [0.00828991],\n",
              "       ...,\n",
              "       [0.1423496 ],\n",
              "       [0.1397442 ],\n",
              "       [0.13690194]])"
            ]
          },
          "metadata": {},
          "execution_count": 9
        }
      ]
    },
    {
      "cell_type": "code",
      "metadata": {
        "colab": {
          "base_uri": "https://localhost:8080/"
        },
        "id": "6q9YexgnBlbe",
        "outputId": "c35cfe25-744f-439f-c969-97f4166e4331"
      },
      "source": [
        "#create the training dataset\n",
        "#create the scaled training dataset\n",
        "\n",
        "train_data = scaled_data[0:training_data_len, :]\n",
        "#Split the data into x_train, y_train datasets\n",
        "x_train = []\n",
        "y_train = []\n",
        "for i in range(60,len(train_data)):\n",
        "    x_train.append(train_data[i-60:i, 0])\n",
        "    y_train.append(train_data[i,0])\n",
        "    if i<=60:\n",
        "        print(x_train)\n",
        "        print(y_train)\n",
        "        print()"
      ],
      "execution_count": 11,
      "outputs": [
        {
          "output_type": "stream",
          "name": "stdout",
          "text": [
            "[array([0.00947418, 0.0078162 , 0.00828991, 0.00710564, 0.00426338,\n",
            "       0.0052108 , 0.00047371, 0.00023685, 0.00047371, 0.        ,\n",
            "       0.00426338, 0.01089531, 0.02013264, 0.01657982, 0.01776409,\n",
            "       0.02629086, 0.02913311, 0.03268593, 0.0286594 , 0.03008053,\n",
            "       0.03268593, 0.03055424, 0.03055424, 0.02581715, 0.0286594 ,\n",
            "       0.03813359, 0.04997631, 0.04855519, 0.04476551, 0.04594979,\n",
            "       0.05187115, 0.04547608, 0.04594979, 0.04784462, 0.05447655,\n",
            "       0.06347703, 0.06395073, 0.05731881, 0.06489815, 0.07081952,\n",
            "       0.07224064, 0.05352913, 0.04334439, 0.0464235 , 0.04689721,\n",
            "       0.039081  , 0.026054  , 0.039081  , 0.03600189, 0.0364756 ,\n",
            "       0.03694931, 0.02960682, 0.02226433, 0.02131691, 0.03434391,\n",
            "       0.03008053, 0.0412127 , 0.06134533, 0.07389863, 0.07674088])]\n",
            "[0.08668877309332074]\n",
            "\n"
          ]
        }
      ]
    },
    {
      "cell_type": "code",
      "metadata": {
        "id": "64gwBUxgBpDt"
      },
      "source": [
        "#convert the x_train and y_train  to numppy array\n",
        "x_train,y_train = np.array(x_train), np.array(y_train)\n"
      ],
      "execution_count": 12,
      "outputs": []
    },
    {
      "cell_type": "code",
      "metadata": {
        "colab": {
          "base_uri": "https://localhost:8080/"
        },
        "id": "HyEoLMGeBtig",
        "outputId": "91e6a237-f225-4268-9c6c-dddbb2286fa8"
      },
      "source": [
        "#reshape the data\n",
        "x_train = np.reshape(x_train,(x_train.shape[0],x_train.shape[1],1))\n",
        "x_train.shape"
      ],
      "execution_count": 13,
      "outputs": [
        {
          "output_type": "execute_result",
          "data": {
            "text/plain": [
              "(3211, 60, 1)"
            ]
          },
          "metadata": {},
          "execution_count": 13
        }
      ]
    },
    {
      "cell_type": "code",
      "metadata": {
        "id": "kJi0z3UdBySC"
      },
      "source": [
        "#Buil the LSTM model\n",
        "model =Sequential()\n",
        "model.add(LSTM(64,return_sequences=True, input_shape=(x_train.shape[1],1)))\n",
        "model.add(LSTM(64, return_sequences= False))\n",
        "model.add(Dense(32))\n",
        "model.add(Dense(1))"
      ],
      "execution_count": 14,
      "outputs": []
    },
    {
      "cell_type": "code",
      "metadata": {
        "id": "q2-nFKS-CEzo"
      },
      "source": [
        "#Complie the model\n",
        "model.compile(optimizer='adam', loss='mean_squared_error')"
      ],
      "execution_count": 15,
      "outputs": []
    },
    {
      "cell_type": "code",
      "metadata": {
        "colab": {
          "base_uri": "https://localhost:8080/"
        },
        "id": "VHItlVr6CFj3",
        "outputId": "9ec6886a-638c-42ef-8312-82238556f2a7"
      },
      "source": [
        "#Train the model\n",
        "model.fit(x_train,y_train, batch_size=1, epochs=10)"
      ],
      "execution_count": 16,
      "outputs": [
        {
          "output_type": "stream",
          "name": "stdout",
          "text": [
            "Epoch 1/10\n",
            "3211/3211 [==============================] - 82s 25ms/step - loss: 0.0014\n",
            "Epoch 2/10\n",
            "3211/3211 [==============================] - 78s 24ms/step - loss: 5.7832e-04\n",
            "Epoch 3/10\n",
            "3211/3211 [==============================] - 78s 24ms/step - loss: 4.6709e-04\n",
            "Epoch 4/10\n",
            "3211/3211 [==============================] - 78s 24ms/step - loss: 4.8430e-04\n",
            "Epoch 5/10\n",
            "3211/3211 [==============================] - 79s 25ms/step - loss: 4.2844e-04\n",
            "Epoch 6/10\n",
            "3211/3211 [==============================] - 80s 25ms/step - loss: 4.0003e-04\n",
            "Epoch 7/10\n",
            "3211/3211 [==============================] - 80s 25ms/step - loss: 4.0980e-04\n",
            "Epoch 8/10\n",
            "3211/3211 [==============================] - 80s 25ms/step - loss: 4.1266e-04\n",
            "Epoch 9/10\n",
            "3211/3211 [==============================] - 80s 25ms/step - loss: 3.9286e-04\n",
            "Epoch 10/10\n",
            "3211/3211 [==============================] - 80s 25ms/step - loss: 3.9724e-04\n"
          ]
        },
        {
          "output_type": "execute_result",
          "data": {
            "text/plain": [
              "<keras.callbacks.History at 0x7fb71bc86910>"
            ]
          },
          "metadata": {},
          "execution_count": 16
        }
      ]
    },
    {
      "cell_type": "code",
      "metadata": {
        "id": "koBrLJupCIjk"
      },
      "source": [
        "#create the testing data sets\n",
        "#create a new array containing scale values from index 1543 to 2003\n",
        "test_data= scaled_data[training_data_len-60:, :]\n",
        "#create the data sets x_test and y_test\n",
        "x_test = []\n",
        "y_test = dataset[training_data_len:,:]\n",
        "for i in range(60,len(test_data)):\n",
        "    x_test.append(test_data[i-60:i,0])"
      ],
      "execution_count": 17,
      "outputs": []
    },
    {
      "cell_type": "code",
      "metadata": {
        "id": "DamY1s3kDqMX"
      },
      "source": [
        "#convert the data to a numpy array\n",
        "x_test = np.array(x_test)"
      ],
      "execution_count": 19,
      "outputs": []
    },
    {
      "cell_type": "code",
      "metadata": {
        "colab": {
          "base_uri": "https://localhost:8080/"
        },
        "id": "oXAlIoyFDqZn",
        "outputId": "296c8fe0-3b6c-45ad-d29d-dcae6bcbdcdf"
      },
      "source": [
        "#reshape the data\n",
        "x_test = np.reshape(x_test, (x_test.shape[0], x_test.shape[1],1))\n",
        "x_test.shape"
      ],
      "execution_count": 20,
      "outputs": [
        {
          "output_type": "execute_result",
          "data": {
            "text/plain": [
              "(817, 60, 1)"
            ]
          },
          "metadata": {},
          "execution_count": 20
        }
      ]
    },
    {
      "cell_type": "code",
      "metadata": {
        "id": "uZOxsPHYDqcK",
        "colab": {
          "base_uri": "https://localhost:8080/"
        },
        "outputId": "a0016399-97d9-4a5d-d01f-e233f88d8834"
      },
      "source": [
        "#predicting the data\n",
        "predictions = model.predict(x_test)\n",
        "predictions = scaler.inverse_transform(predictions)"
      ],
      "execution_count": 21,
      "outputs": [
        {
          "output_type": "stream",
          "name": "stdout",
          "text": [
            "26/26 [==============================] - 3s 28ms/step\n"
          ]
        }
      ]
    },
    {
      "cell_type": "code",
      "metadata": {
        "colab": {
          "base_uri": "https://localhost:8080/"
        },
        "id": "JjMp9NBYDqex",
        "outputId": "bdd1d713-59de-41e4-aa39-2392c5d191f6"
      },
      "source": [
        "#get the root mean square error(RMSE)\n",
        "rmse = np.sqrt(np.mean(predictions - y_test)**2)\n",
        "rmse"
      ],
      "execution_count": 22,
      "outputs": [
        {
          "output_type": "execute_result",
          "data": {
            "text/plain": [
              "0.9559516056952597"
            ]
          },
          "metadata": {},
          "execution_count": 22
        }
      ]
    },
    {
      "cell_type": "code",
      "metadata": {
        "colab": {
          "base_uri": "https://localhost:8080/",
          "height": 897
        },
        "id": "0soJhwwGDqg5",
        "outputId": "7e0cdb8d-2105-4cc0-db29-c08d4c3d6682"
      },
      "source": [
        "#plot the data\n",
        "train = data[:training_data_len]\n",
        "valid = data[training_data_len:]\n",
        "valid['Predictions'] = predictions\n",
        "#Visialization the data\n",
        "plt.figure(figsize=(16,8))\n",
        "plt.title('Model')\n",
        "plt.xlabel('Date', fontsize=18)\n",
        "plt.ylabel('Close Price' ,fontsize=18)\n",
        "plt.plot(train['Close'],linewidth=3.5)\n",
        "plt.plot(valid[['Close','Predictions']],linewidth=3.5)\n",
        "plt.legend(['Train','Valid','Predictions'], loc='upper_center')"
      ],
      "execution_count": 23,
      "outputs": [
        {
          "output_type": "stream",
          "name": "stderr",
          "text": [
            "/usr/local/lib/python3.7/dist-packages/ipykernel_launcher.py:4: SettingWithCopyWarning: \n",
            "A value is trying to be set on a copy of a slice from a DataFrame.\n",
            "Try using .loc[row_indexer,col_indexer] = value instead\n",
            "\n",
            "See the caveats in the documentation: https://pandas.pydata.org/pandas-docs/stable/user_guide/indexing.html#returning-a-view-versus-a-copy\n",
            "  after removing the cwd from sys.path.\n",
            "/usr/local/lib/python3.7/dist-packages/ipykernel_launcher.py:12: MatplotlibDeprecationWarning: Unrecognized location 'upper_center'. Falling back on 'best'; valid locations are\n",
            "\tbest\n",
            "\tupper right\n",
            "\tupper left\n",
            "\tlower left\n",
            "\tlower right\n",
            "\tright\n",
            "\tcenter left\n",
            "\tcenter right\n",
            "\tlower center\n",
            "\tupper center\n",
            "\tcenter\n",
            "This will raise an exception in 3.3.\n",
            "  if sys.path[0] == '':\n"
          ]
        },
        {
          "output_type": "execute_result",
          "data": {
            "text/plain": [
              "<matplotlib.legend.Legend at 0x7fb71b490750>"
            ]
          },
          "metadata": {},
          "execution_count": 23
        },
        {
          "output_type": "display_data",
          "data": {
            "text/plain": [
              "<Figure size 1152x576 with 1 Axes>"
            ],
            "image/png": "[encoded data removed]"
          },
          "metadata": {
            "needs_background": "light"
          }
        }
      ]
    },
    {
      "cell_type": "code",
      "metadata": {
        "colab": {
          "base_uri": "https://localhost:8080/",
          "height": 455
        },
        "id": "FN8VeamMDqjJ",
        "outputId": "e3c0da1b-9a15-49c0-e69c-f8408f0edc60"
      },
      "source": [
        "#show the valid and predicted price\n",
        "valid"
      ],
      "execution_count": 24,
      "outputs": [
        {
          "output_type": "execute_result",
          "data": {
            "text/plain": [
              "             Close  Predictions\n",
              "Date                           \n",
              "2018-01-09  176.70   175.963516\n",
              "2018-01-10  173.95   175.154160\n",
              "2018-01-11  173.50   172.561707\n",
              "2018-01-12  172.50   171.804184\n",
              "2018-01-15  172.95   170.969925\n",
              "...            ...          ...\n",
              "2021-04-26  102.40   103.906105\n",
              "2021-04-27  102.05   104.526909\n",
              "2021-04-28  103.60   104.241013\n",
              "2021-04-29  103.05   105.263046\n",
              "2021-04-30  102.45   105.010323\n",
              "\n",
              "[817 rows x 2 columns]"
            ],
            "text/html": [
              "\n",
              "  <div id=\"df-89d60c33-9a5c-4277-8b03-694f5a2b98c0\">\n",
              "    <div class=\"colab-df-container\">\n",
              "      <div>\n",
              "<style scoped>\n",
              "    .dataframe tbody tr th:only-of-type {\n",
              "        vertical-align: middle;\n",
              "    }\n",
              "\n",
              "    .dataframe tbody tr th {\n",
              "        vertical-align: top;\n",
              "    }\n",
              "\n",
              "    .dataframe thead th {\n",
              "        text-align: right;\n",
              "    }\n",
              "</style>\n",
              "<table border=\"1\" class=\"dataframe\">\n",
              "  <thead>\n",
              "    <tr style=\"text-align: right;\">\n",
              "      <th></th>\n",
              "      <th>Close</th>\n",
              "      <th>Predictions</th>\n",
              "    </tr>\n",
              "    <tr>\n",
              "      <th>Date</th>\n",
              "      <th></th>\n",
              "      <th></th>\n",
              "    </tr>\n",
              "  </thead>\n",
              "  <tbody>\n",
              "    <tr>\n",
              "      <th>2018-01-09</th>\n",
              "      <td>176.70</td>\n",
              "      <td>175.963516</td>\n",
              "    </tr>\n",
              "    <tr>\n",
              "      <th>2018-01-10</th>\n",
              "      <td>173.95</td>\n",
              "      <td>175.154160</td>\n",
              "    </tr>\n",
              "    <tr>\n",
              "      <th>2018-01-11</th>\n",
              "      <td>173.50</td>\n",
              "      <td>172.561707</td>\n",
              "    </tr>\n",
              "    <tr>\n",
              "      <th>2018-01-12</th>\n",
              "      <td>172.50</td>\n",
              "      <td>171.804184</td>\n",
              "    </tr>\n",
              "    <tr>\n",
              "      <th>2018-01-15</th>\n",
              "      <td>172.95</td>\n",
              "      <td>170.969925</td>\n",
              "    </tr>\n",
              "    <tr>\n",
              "      <th>...</th>\n",
              "      <td>...</td>\n",
              "      <td>...</td>\n",
              "    </tr>\n",
              "    <tr>\n",
              "      <th>2021-04-26</th>\n",
              "      <td>102.40</td>\n",
              "      <td>103.906105</td>\n",
              "    </tr>\n",
              "    <tr>\n",
              "      <th>2021-04-27</th>\n",
              "      <td>102.05</td>\n",
              "      <td>104.526909</td>\n",
              "    </tr>\n",
              "    <tr>\n",
              "      <th>2021-04-28</th>\n",
              "      <td>103.60</td>\n",
              "      <td>104.241013</td>\n",
              "    </tr>\n",
              "    <tr>\n",
              "      <th>2021-04-29</th>\n",
              "      <td>103.05</td>\n",
              "      <td>105.263046</td>\n",
              "    </tr>\n",
              "    <tr>\n",
              "      <th>2021-04-30</th>\n",
              "      <td>102.45</td>\n",
              "      <td>105.010323</td>\n",
              "    </tr>\n",
              "  </tbody>\n",
              "</table>\n",
              "<p>817 rows × 2 columns</p>\n",
              "</div>\n",
              "      <button class=\"colab-df-convert\" onclick=\"convertToInteractive('df-89d60c33-9a5c-4277-8b03-694f5a2b98c0')\"\n",
              "              title=\"Convert this dataframe to an interactive table.\"\n",
              "              style=\"display:none;\">\n",
              "        \n",
              "  <svg xmlns=\"http://www.w3.org/2000/svg\" height=\"24px\"viewBox=\"0 0 24 24\"\n",
              "       width=\"24px\">\n",
              "    <path d=\"M0 0h24v24H0V0z\" fill=\"none\"/>\n",
              "    <path d=\"M18.56 5.44l.94 2.06.94-2.06 2.06-.94-2.06-.94-.94-2.06-.94 2.06-2.06.94zm-11 1L8.5 8.5l.94-2.06 2.06-.94-2.06-.94L8.5 2.5l-.94 2.06-2.06.94zm10 10l.94 2.06.94-2.06 2.06-.94-2.06-.94-.94-2.06-.94 2.06-2.06.94z\"/><path d=\"M17.41 7.96l-1.37-1.37c-.4-.4-.92-.59-1.43-.59-.52 0-1.04.2-1.43.59L10.3 9.45l-7.72 7.72c-.78.78-.78 2.05 0 2.83L4 21.41c.39.39.9.59 1.41.59.51 0 1.02-.2 1.41-.59l7.78-7.78 2.81-2.81c.8-.78.8-2.07 0-2.86zM5.41 20L4 18.59l7.72-7.72 1.47 1.35L5.41 20z\"/>\n",
              "  </svg>\n",
              "      </button>\n",
              "      \n",
              "  <style>\n",
              "    .colab-df-container {\n",
              "      display:flex;\n",
              "      flex-wrap:wrap;\n",
              "      gap: 12px;\n",
              "    }\n",
              "\n",
              "    .colab-df-convert {\n",
              "      background-color: #E8F0FE;\n",
              "      border: none;\n",
              "      border-radius: 50%;\n",
              "      cursor: pointer;\n",
              "      display: none;\n",
              "      fill: #1967D2;\n",
              "      height: 32px;\n",
              "      padding: 0 0 0 0;\n",
              "      width: 32px;\n",
              "    }\n",
              "\n",
              "    .colab-df-convert:hover {\n",
              "      background-color: #E2EBFA;\n",
              "      box-shadow: 0px 1px 2px rgba(60, 64, 67, 0.3), 0px 1px 3px 1px rgba(60, 64, 67, 0.15);\n",
              "      fill: #174EA6;\n",
              "    }\n",
              "\n",
              "    [theme=dark] .colab-df-convert {\n",
              "      background-color: #3B4455;\n",
              "      fill: #D2E3FC;\n",
              "    }\n",
              "\n",
              "    [theme=dark] .colab-df-convert:hover {\n",
              "      background-color: #434B5C;\n",
              "      box-shadow: 0px 1px 3px 1px rgba(0, 0, 0, 0.15);\n",
              "      filter: drop-shadow(0px 1px 2px rgba(0, 0, 0, 0.3));\n",
              "      fill: #FFFFFF;\n",
              "    }\n",
              "  </style>\n",
              "\n",
              "      <script>\n",
              "        const buttonEl =\n",
              "          document.querySelector('#df-89d60c33-9a5c-4277-8b03-694f5a2b98c0 button.colab-df-convert');\n",
              "        buttonEl.style.display =\n",
              "          google.colab.kernel.accessAllowed ? 'block' : 'none';\n",
              "\n",
              "        async function convertToInteractive(key) {\n",
              "          const element = document.querySelector('#df-89d60c33-9a5c-4277-8b03-694f5a2b98c0');\n",
              "          const dataTable =\n",
              "            await google.colab.kernel.invokeFunction('convertToInteractive',\n",
              "                                                     [key], {});\n",
              "          if (!dataTable) return;\n",
              "\n",
              "          const docLinkHtml = 'Like what you see? Visit the ' +\n",
              "            '<a target=\"_blank\" href=https://colab.research.google.com/notebooks/data_table.ipynb>data table notebook</a>'\n",
              "            + ' to learn more about interactive tables.';\n",
              "          element.innerHTML = '';\n",
              "          dataTable['output_type'] = 'display_data';\n",
              "          await google.colab.output.renderOutput(dataTable, element);\n",
              "          const docLink = document.createElement('div');\n",
              "          docLink.innerHTML = docLinkHtml;\n",
              "          element.appendChild(docLink);\n",
              "        }\n",
              "      </script>\n",
              "    </div>\n",
              "  </div>\n",
              "  "
            ]
          },
          "metadata": {},
          "execution_count": 24
        }
      ]
    },
    {
      "cell_type": "code",
      "metadata": {
        "colab": {
          "base_uri": "https://localhost:8080/",
          "height": 406
        },
        "id": "44QgQtlBGNVs",
        "outputId": "ee87dd60-520b-4c48-d8fe-d86b7625acfa"
      },
      "source": [
        "df.tail()\n"
      ],
      "execution_count": 25,
      "outputs": [
        {
          "output_type": "execute_result",
          "data": {
            "text/plain": [
              "           Symbol Series  Prev Close    Open    High     Low    Last   Close  \\\n",
              "Date                                                                           \n",
              "2021-04-26   NTPC     EQ      102.55  103.95  103.95  100.85  102.50  102.40   \n",
              "2021-04-27   NTPC     EQ      102.40  102.05  103.55  101.70  101.85  102.05   \n",
              "2021-04-28   NTPC     EQ      102.05  102.85  103.95  102.15  103.60  103.60   \n",
              "2021-04-29   NTPC     EQ      103.60  104.60  105.00  102.65  102.95  103.05   \n",
              "2021-04-30   NTPC     EQ      103.05  102.25  105.65  102.05  102.40  102.45   \n",
              "\n",
              "              VWAP    Volume      Turnover   Trades  Deliverable Volume  \\\n",
              "Date                                                                      \n",
              "2021-04-26  102.08  24369413  2.487514e+14  66644.0             9190471   \n",
              "2021-04-27  102.35  17763436  1.818113e+14  49985.0             7220824   \n",
              "2021-04-28  103.15  15160578  1.563882e+14  50680.0             7815042   \n",
              "2021-04-29  103.70  11588556  1.201737e+14  38532.0             4040332   \n",
              "2021-04-30  103.71  15321193  1.588952e+14  48217.0             4597153   \n",
              "\n",
              "            %Deliverble  \n",
              "Date                     \n",
              "2021-04-26       0.3771  \n",
              "2021-04-27       0.4065  \n",
              "2021-04-28       0.5155  \n",
              "2021-04-29       0.3486  \n",
              "2021-04-30       0.3001  "
            ],
            "text/html": [
              "\n",
              "  <div id=\"df-0bf5bf58-03e1-4bcd-93c8-1010d90e99a8\">\n",
              "    <div class=\"colab-df-container\">\n",
              "      <div>\n",
              "<style scoped>\n",
              "    .dataframe tbody tr th:only-of-type {\n",
              "        vertical-align: middle;\n",
              "    }\n",
              "\n",
              "    .dataframe tbody tr th {\n",
              "        vertical-align: top;\n",
              "    }\n",
              "\n",
              "    .dataframe thead th {\n",
              "        text-align: right;\n",
              "    }\n",
              "</style>\n",
              "<table border=\"1\" class=\"dataframe\">\n",
              "  <thead>\n",
              "    <tr style=\"text-align: right;\">\n",
              "      <th></th>\n",
              "      <th>Symbol</th>\n",
              "      <th>Series</th>\n",
              "      <th>Prev Close</th>\n",
              "      <th>Open</th>\n",
              "      <th>High</th>\n",
              "      <th>Low</th>\n",
              "      <th>Last</th>\n",
              "      <th>Close</th>\n",
              "      <th>VWAP</th>\n",
              "      <th>Volume</th>\n",
              "      <th>Turnover</th>\n",
              "      <th>Trades</th>\n",
              "      <th>Deliverable Volume</th>\n",
              "      <th>%Deliverble</th>\n",
              "    </tr>\n",
              "    <tr>\n",
              "      <th>Date</th>\n",
              "      <th></th>\n",
              "      <th></th>\n",
              "      <th></th>\n",
              "      <th></th>\n",
              "      <th></th>\n",
              "      <th></th>\n",
              "      <th></th>\n",
              "      <th></th>\n",
              "      <th></th>\n",
              "      <th></th>\n",
              "      <th></th>\n",
              "      <th></th>\n",
              "      <th></th>\n",
              "      <th></th>\n",
              "    </tr>\n",
              "  </thead>\n",
              "  <tbody>\n",
              "    <tr>\n",
              "      <th>2021-04-26</th>\n",
              "      <td>NTPC</td>\n",
              "      <td>EQ</td>\n",
              "      <td>102.55</td>\n",
              "      <td>103.95</td>\n",
              "      <td>103.95</td>\n",
              "      <td>100.85</td>\n",
              "      <td>102.50</td>\n",
              "      <td>102.40</td>\n",
              "      <td>102.08</td>\n",
              "      <td>24369413</td>\n",
              "      <td>2.487514e+14</td>\n",
              "      <td>66644.0</td>\n",
              "      <td>9190471</td>\n",
              "      <td>0.3771</td>\n",
              "    </tr>\n",
              "    <tr>\n",
              "      <th>2021-04-27</th>\n",
              "      <td>NTPC</td>\n",
              "      <td>EQ</td>\n",
              "      <td>102.40</td>\n",
              "      <td>102.05</td>\n",
              "      <td>103.55</td>\n",
              "      <td>101.70</td>\n",
              "      <td>101.85</td>\n",
              "      <td>102.05</td>\n",
              "      <td>102.35</td>\n",
              "      <td>17763436</td>\n",
              "      <td>1.818113e+14</td>\n",
              "      <td>49985.0</td>\n",
              "      <td>7220824</td>\n",
              "      <td>0.4065</td>\n",
              "    </tr>\n",
              "    <tr>\n",
              "      <th>2021-04-28</th>\n",
              "      <td>NTPC</td>\n",
              "      <td>EQ</td>\n",
              "      <td>102.05</td>\n",
              "      <td>102.85</td>\n",
              "      <td>103.95</td>\n",
              "      <td>102.15</td>\n",
              "      <td>103.60</td>\n",
              "      <td>103.60</td>\n",
              "      <td>103.15</td>\n",
              "      <td>15160578</td>\n",
              "      <td>1.563882e+14</td>\n",
              "      <td>50680.0</td>\n",
              "      <td>7815042</td>\n",
              "      <td>0.5155</td>\n",
              "    </tr>\n",
              "    <tr>\n",
              "      <th>2021-04-29</th>\n",
              "      <td>NTPC</td>\n",
              "      <td>EQ</td>\n",
              "      <td>103.60</td>\n",
              "      <td>104.60</td>\n",
              "      <td>105.00</td>\n",
              "      <td>102.65</td>\n",
              "      <td>102.95</td>\n",
              "      <td>103.05</td>\n",
              "      <td>103.70</td>\n",
              "      <td>11588556</td>\n",
              "      <td>1.201737e+14</td>\n",
              "      <td>38532.0</td>\n",
              "      <td>4040332</td>\n",
              "      <td>0.3486</td>\n",
              "    </tr>\n",
              "    <tr>\n",
              "      <th>2021-04-30</th>\n",
              "      <td>NTPC</td>\n",
              "      <td>EQ</td>\n",
              "      <td>103.05</td>\n",
              "      <td>102.25</td>\n",
              "      <td>105.65</td>\n",
              "      <td>102.05</td>\n",
              "      <td>102.40</td>\n",
              "      <td>102.45</td>\n",
              "      <td>103.71</td>\n",
              "      <td>15321193</td>\n",
              "      <td>1.588952e+14</td>\n",
              "      <td>48217.0</td>\n",
              "      <td>4597153</td>\n",
              "      <td>0.3001</td>\n",
              "    </tr>\n",
              "  </tbody>\n",
              "</table>\n",
              "</div>\n",
              "      <button class=\"colab-df-convert\" onclick=\"convertToInteractive('df-0bf5bf58-03e1-4bcd-93c8-1010d90e99a8')\"\n",
              "              title=\"Convert this dataframe to an interactive table.\"\n",
              "              style=\"display:none;\">\n",
              "        \n",
              "  <svg xmlns=\"http://www.w3.org/2000/svg\" height=\"24px\"viewBox=\"0 0 24 24\"\n",
              "       width=\"24px\">\n",
              "    <path d=\"M0 0h24v24H0V0z\" fill=\"none\"/>\n",
              "    <path d=\"M18.56 5.44l.94 2.06.94-2.06 2.06-.94-2.06-.94-.94-2.06-.94 2.06-2.06.94zm-11 1L8.5 8.5l.94-2.06 2.06-.94-2.06-.94L8.5 2.5l-.94 2.06-2.06.94zm10 10l.94 2.06.94-2.06 2.06-.94-2.06-.94-.94-2.06-.94 2.06-2.06.94z\"/><path d=\"M17.41 7.96l-1.37-1.37c-.4-.4-.92-.59-1.43-.59-.52 0-1.04.2-1.43.59L10.3 9.45l-7.72 7.72c-.78.78-.78 2.05 0 2.83L4 21.41c.39.39.9.59 1.41.59.51 0 1.02-.2 1.41-.59l7.78-7.78 2.81-2.81c.8-.78.8-2.07 0-2.86zM5.41 20L4 18.59l7.72-7.72 1.47 1.35L5.41 20z\"/>\n",
              "  </svg>\n",
              "      </button>\n",
              "      \n",
              "  <style>\n",
              "    .colab-df-container {\n",
              "      display:flex;\n",
              "      flex-wrap:wrap;\n",
              "      gap: 12px;\n",
              "    }\n",
              "\n",
              "    .colab-df-convert {\n",
              "      background-color: #E8F0FE;\n",
              "      border: none;\n",
              "      border-radius: 50%;\n",
              "      cursor: pointer;\n",
              "      display: none;\n",
              "      fill: #1967D2;\n",
              "      height: 32px;\n",
              "      padding: 0 0 0 0;\n",
              "      width: 32px;\n",
              "    }\n",
              "\n",
              "    .colab-df-convert:hover {\n",
              "      background-color: #E2EBFA;\n",
              "      box-shadow: 0px 1px 2px rgba(60, 64, 67, 0.3), 0px 1px 3px 1px rgba(60, 64, 67, 0.15);\n",
              "      fill: #174EA6;\n",
              "    }\n",
              "\n",
              "    [theme=dark] .colab-df-convert {\n",
              "      background-color: #3B4455;\n",
              "      fill: #D2E3FC;\n",
              "    }\n",
              "\n",
              "    [theme=dark] .colab-df-convert:hover {\n",
              "      background-color: #434B5C;\n",
              "      box-shadow: 0px 1px 3px 1px rgba(0, 0, 0, 0.15);\n",
              "      filter: drop-shadow(0px 1px 2px rgba(0, 0, 0, 0.3));\n",
              "      fill: #FFFFFF;\n",
              "    }\n",
              "  </style>\n",
              "\n",
              "      <script>\n",
              "        const buttonEl =\n",
              "          document.querySelector('#df-0bf5bf58-03e1-4bcd-93c8-1010d90e99a8 button.colab-df-convert');\n",
              "        buttonEl.style.display =\n",
              "          google.colab.kernel.accessAllowed ? 'block' : 'none';\n",
              "\n",
              "        async function convertToInteractive(key) {\n",
              "          const element = document.querySelector('#df-0bf5bf58-03e1-4bcd-93c8-1010d90e99a8');\n",
              "          const dataTable =\n",
              "            await google.colab.kernel.invokeFunction('convertToInteractive',\n",
              "                                                     [key], {});\n",
              "          if (!dataTable) return;\n",
              "\n",
              "          const docLinkHtml = 'Like what you see? Visit the ' +\n",
              "            '<a target=\"_blank\" href=https://colab.research.google.com/notebooks/data_table.ipynb>data table notebook</a>'\n",
              "            + ' to learn more about interactive tables.';\n",
              "          element.innerHTML = '';\n",
              "          dataTable['output_type'] = 'display_data';\n",
              "          await google.colab.output.renderOutput(dataTable, element);\n",
              "          const docLink = document.createElement('div');\n",
              "          docLink.innerHTML = docLinkHtml;\n",
              "          element.appendChild(docLink);\n",
              "        }\n",
              "      </script>\n",
              "    </div>\n",
              "  </div>\n",
              "  "
            ]
          },
          "metadata": {},
          "execution_count": 25
        }
      ]
    },
    {
      "cell_type": "code",
      "metadata": {
        "colab": {
          "base_uri": "https://localhost:8080/"
        },
        "id": "32F-lscDDqlm",
        "outputId": "2c0eb4d8-502d-40ca-964e-29f90d330310"
      },
      "source": [
        "#get the quote\n",
        "ntpc = pd.read_csv(\"/content/drive/MyDrive/NTPC.csv\")\n",
        "#Create new data frame\n",
        "new_df = ntpc.filter(['Close'])\n",
        "#get the last 60 days closing price values and convert the dataframe to an array\n",
        "last_60_days = new_df[-60:].values\n",
        "#scaled the data to be values between 0 and 1\n",
        "last_60_days_scaled = scaler.transform(last_60_days)\n",
        "#create an empty list\n",
        "X_test = []\n",
        "#append the past 60 days \n",
        "X_test.append(last_60_days_scaled)\n",
        "#convert the X_test data set to a numpy array\n",
        "X_test = np.array(X_test)\n",
        "#Reshape the data\n",
        "X_test = np.reshape(X_test,(X_test.shape[0], X_test.shape[1],1))\n",
        "#get the predicted scaled price\n",
        "pred_price= model.predict(X_test)\n",
        "#undo the scalling\n",
        "pred_price = scaler.inverse_transform(pred_price)\n",
        "pred_price"
      ],
      "execution_count": 30,
      "outputs": [
        {
          "output_type": "stream",
          "name": "stdout",
          "text": [
            "1/1 [==============================] - 0s 51ms/step\n"
          ]
        },
        {
          "output_type": "execute_result",
          "data": {
            "text/plain": [
              "array([[104.42051]], dtype=float32)"
            ]
          },
          "metadata": {},
          "execution_count": 30
        }
      ]
    },
    {
      "cell_type": "code",
      "metadata": {
        "id": "sp2VXeXMDqn8"
      },
      "source": [],
      "execution_count": 30,
      "outputs": []
    }
  ]
}